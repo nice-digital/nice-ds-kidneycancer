{
 "cells": [
  {
   "cell_type": "markdown",
   "metadata": {
    "colab_type": "text",
    "id": "view-in-github"
   },
   "source": [
    "<a href=\"https://colab.research.google.com/github/nice-digital/nice-ds-literatureprocessing/blob/master/code/breast_cancer/test_entitymodels_colab.ipynb\" target=\"_parent\"><img src=\"https://colab.research.google.com/assets/colab-badge.svg\" alt=\"Open In Colab\"/></a>"
   ]
  },
  {
   "cell_type": "code",
   "execution_count": null,
   "metadata": {
    "id": "A7imrDwENMaE"
   },
   "outputs": [],
   "source": [
    "#(Sample code) During testing, run the below code on text which will be seen by the model (after pre-processing), and install necessary packages\n",
    "from spacy import displacy\n",
    "abstract = \"prospective evaluation of a prevention protocol for lymphedema following surgery for breast cancer  erratum appears in lymphology   2009 sep;42 3  149\"\n",
    "abstract = \"Prospective evaluation of a prevention protocol for lymphedema following surgery for breast cancer.[Erratum appears in Lymphology. 2009 Sep;42(3):149]\"\n",
    "abstract = \"Lymphedema is a common complication of axillary dissection and thus emphasis should be placed on prevention. Fifty-five women who had breast-conserving surgery or modified radical mastectomy for breast cancer with axillary dissection were randomly assigned to either the preventive protocol (PG) or control group (CG) and assessments were made preoperatively and at 1, 3, 6, 12 and 24 months postoperatively. Arm volume (VOL) was used as measurement of arm lymphedema. Clinically significant lymphedema was confirmed by an increase of at least 200 ml from the preoperative difference between the two arms. The preventive protocol for the PG women included preoperative upper limb lymphscintigraphy (LS), principles for lymphedema risk minimization, and early management of this condition when it was identified. Assessments at 2 years postoperatively were completed for 89% of the 55 women who were randomly assigned to either PG or CG. Of the 49 women with unilateral breast cancer surgery who were measured at 24 months, 10 (21%) were identified with secondary lymphedema using VOL with an incidence of 8% in PG women and 33% in CG women. These prophylactic strategies appear to reduce the development of secondary lymphedema and alter its progression in comparison to the CG women\"\n",
    "abstract = \"lymphedema is a common complication of axillary dissection and thus emphasis should be placed on prevention   fifty five women who had breast conserving surgery or modified radical mastectomy for breast cancer with axillary dissection were randomly assigned to either the preventive protocol   pg   or control group   control group   and assessments were made preoperatively and at 1   3   6   12 and 24 months postoperatively   arm volume   volume   was used as measurement of arm lymphedema   clinically significant lymphedema was confirmed by an increase of at least 200 ml from the preoperative difference between the two arms   the preventive protocol for the pg women included preoperative upper limb lymphscintigraphy   lymphscintigraphy     principles for lymphedema risk minimization   and early management of this condition when it was identified   assessments at 2 years postoperatively were completed for 89   of the 55 women who were randomly assigned to either pg or control group   of the 49 women with unilateral breast cancer surgery who were measured at 24 months   10   21     were identified with secondary lymphedema using volume with an incidence of 8   in pg women and 33   in control group women   these prophylactic strategies appear to reduce the development of secondary lymphedema and alter its progression in comparison to the control group women\"\n",
    "abstract = \"BACKGROUND: The diagnostic performance of dedicated positron emission mammary (PEM) using fluorine-18-fluorodeoxyglucose (FDG) in evaluating suspicious breast lesions has been investigated by several authors, with conflicting results. Aim of our study is to meta-analyze published data about this topic, in order to add evidence-based data in this setting  MATERIALS AND METHODS: We carried out a comprehensive computer literature search of studies published in the PubMed/MEDLINE, Scopus, or Embase databases through February 10, 2013, regarding the diagnostic performance of PEM using FDG in women with breast lesions. Only studies comprising > 10 patients who underwent PEM were included in the meta-analysis, for statistical purposes. Pooled sensitivity and specificity on a per lesion-based analysis were calculated to assess the diagnostic performance of PEM using FDG in this setting  RESULTS: Our meta-analysis evaluated 8 studies comprising 873 women with breast lesions. Pooled sensitivity and specificity values of PEM using FDG in women with suspected breast malignancy were 85% (95% CI, 83%-88%) and 79% (95% CI, 74%-83%), respectively, on a per lesion-based analysis. The included studies were heterogeneous in their estimate of sensitivity and specificity  CONCLUSION: PEM using FDG is a sensitive and specific tool for the evaluation of suspicious breast lesions. The detection of additional lesions and extensive intraductal involvement is improved, with comparable accuracy, over that of MRI in the depiction of invasive breast cancers.Copyright 2014 Elsevier Inc.\"\n",
    "abstract = \"background   the diagnostic performance of dedicated positron emission mammography   positron emission mammography   using fluorine 18 fluorodeoxyglucose   fluorine 18 fluorodeoxyglucose   in evaluating suspicious breast lesions has been investigated by several authors   with conflicting results   aim of our study is to meta analyze published data about this topic   in order to add evidence based data in this setting   materials and methods   we carried out a comprehensive computer literature search of studies published in the pubmed medline   scopus   or embase databases through february 10   2013   regarding the diagnostic performance of positron emission mammography using fluorine 18 fluorodeoxyglucose in women with breast lesions   only studies comprising > 10 patients who underwent positron emission mammography were included in the meta analysis   for statistical purposes   pooled sensitivity and specificity on a per lesion based analysis were calculated to assess the diagnostic performance of positron emission mammography using fluorine 18 fluorodeoxyglucose in this setting   results   our meta analysis evaluated 8 studies comprising 873 women with breast lesions   pooled sensitivity and specificity values of positron emission mammography using fluorine 18 fluorodeoxyglucose in women with suspected breast malignancy were 85     95   ci   83  88     and 79     95   ci   74  83       respectively   on a per lesion based analysis   the included studies were heterogeneous in their estimate of sensitivity and specificity   conclusion   positron emission mammography using fluorine 18 fluorodeoxyglucose is a sensitive and specific tool for the evaluation of suspicious breast lesions   the detection of additional lesions and extensive intraductal involvement is improved   with comparable accuracy   over that of mri in the depiction of invasive breast cancers   copyright 2014 elsevier inc  all rights reserved\"\n",
    "abstract = \"infiltrating lobular carcinoma   infiltrating lobular carcinoma   of the breast is associated with greater oestrogen receptor expression and poorer response to neoadjuvant chemotherapy   when compared to ductal carcinoma   infiltrating ductal carcinoma     in order to compare the pathological complete response rate   pathological complete response rate   and breast conserving surgery   breast conserving surgery   in patients with infiltrating lobular carcinoma versus infiltrating ductal carcinoma treated with neoadjuvant chemotherapy   we performed a systematic review and meta analysis of all published studies   a search of pubmed   embase   the web of science   scopus and the cochrane central register of controlled trials was performed to identify studies that investigated pathological complete response rate   clinical response and breast conserving surgery in patients with infiltrating lobular carcinoma that were treated with neoadjuvant chemotherapy   random effect models were adopted to estimate the summary odds ratio   odds ratio     and the publication bias was evaluated using a funnel plot and egger  s regression asymmetry test   seventeen studies were included   one randomized controlled trial   three prospective series and 13 retrospective trials     for a total of 12 645 idcs and 1 764 ilcs to be compared   ductal carcinoma of the breast was associated with a better pathological complete response rate   from 5 9 to 16 7   ; odds ratio = 3 1   95   ci 2 48   3 87   p < 0 00001   and rate of breast conserving surgery   from 35 4 to 54 8   ; odds ratio = 2 1   95   ci 1 8   2 45   p < 0 00001   compared to infiltrating lobular carcinoma   the overall pathological complete response rate rates and breast conserving surgery decreased in the ilcs compared with infiltrating ductal carcinoma when treated with neoadjuvant chemotherapy\"\n",
    "abstract = \"paget s disease ( paget s disease ) is a kind of malignant tumor that is usually localized within the epidermis . paget s disease can be divided into mammary paget's disease ( mammary pd ) and extramammary paget s disease ( extramammary pd ) . extramammary pd is rare , but the actual incidence is not known . perianal paget s disease ( perianal pd ) refers to extramammary pd that is located within 6 cm of the anal orifice and below the pectinate line . in this study , we summarize the pathogenesis , clinical characteristics , diagnosis , and treatment of perianal pd . pubmed and web of science data-bases were used to search for the relevant studies , and the key words were  extramammary pd  and  perianal pd  . the symptoms of perianal pd are similar to those of other benign skin diseases , and so the diagnosis of perianal pd is always delayed . histopathology is necessary for the diagnosis of perianal pd . many treatment methods have been used for perianal pd , but surgical resection remains the treatment of choice . the rarity of perianal pd has hampered further research . copyright Â© 2020 , e-century publishing corporation . all rights reserved .\"\n",
    "abstract = \"breast disorders in adolescence : a review of the literature background : adolescence is accompanied by a variety of changes in young breast development , which greatly affects the adolescent 's psychology and socialization . summary : pubmed , embase , and the cochrane library were searched for studies relative to epidemiology , clinical characteristics , diagnosis , and management of all breast disorders in adolescence and their consequences . development disorders are breast asymmetry , breast atrophy , breast hypoplasia , hypomastia , juvenile breast hypertrophy , and tuberous breast . breast congenital abnormalities include athelia , amastia , accessory breast tissue , polymastia , polythelia , and congenital disorders of nipples . breast infections are commonly caused from gram-positive coccus rather than gram-negative bacteria . breast abscess occurs when breast infections are not promptly treated . nipple discharge is caused by a variety of conditions and should be managed carefully . fibrocystic changes , cysts , and fibroadenomas are the most common benign masses in adolescence . primary , secondary , or metastatic breast cancer is extremely rare in adolescence . however , clinicians should include breast cancer in the differential diagnosis of a breast mass in adolescence . key messages : clinicians should be aware of all breast disorders that may occur in adolescence . early diagnosis and treatment will result in the reassurance of adolescents and their families without any detrimental effect on their psychology , sexual behavior , and socialization . adolescents with breast disorders may require a multidisciplinary approach by a pediatrician , a gynecologist specializing in pediatric-adolescent gynecology , a plastic surgeon , and a psychologist for the best management of breast disorders . copyright Â© 2020\"\n",
    "doc_sci = nlp(abstract)\n",
    "doc_diseasechem = nlpDiseaseChem(abstract) \n",
    "doc_cancer = nlpcancer(abstract)\n",
    "displacy.render(doc_cancer,style='ent',jupyter=True)\n",
    "\n",
    "#mammography won't be picked up by med/cancer terms"
   ]
  }
 ],
 "metadata": {
  "colab": {
   "authorship_tag": "ABX9TyMf2u3xu72S/6DlEOdxqyJ+",
   "include_colab_link": true,
   "provenance": []
  },
  "kernelspec": {
   "display_name": "Python 3",
   "language": "python",
   "name": "python3"
  },
  "language_info": {
   "codemirror_mode": {
    "name": "ipython",
    "version": 3
   },
   "file_extension": ".py",
   "mimetype": "text/x-python",
   "name": "python",
   "nbconvert_exporter": "python",
   "pygments_lexer": "ipython3",
   "version": "3.8.6"
  }
 },
 "nbformat": 4,
 "nbformat_minor": 1
}
