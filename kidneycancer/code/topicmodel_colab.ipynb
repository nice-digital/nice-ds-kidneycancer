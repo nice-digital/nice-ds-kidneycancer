{
  "cells": [
    {
      "cell_type": "markdown",
      "metadata": {
        "id": "view-in-github",
        "colab_type": "text"
      },
      "source": [
        "<a href=\"https://colab.research.google.com/github/nice-digital/nice-ds-kidneycancer/blob/master/kidneycancer/code/topicmodel_colab.ipynb\" target=\"_parent\"><img src=\"https://colab.research.google.com/assets/colab-badge.svg\" alt=\"Open In Colab\"/></a>"
      ]
    },
    {
      "cell_type": "markdown",
      "id": "funded-credits",
      "metadata": {
        "id": "funded-credits"
      },
      "source": [
        "# **Topic modelling on pre-processed dataset (Kidney cancer)**\n",
        "\n",
        "This Colab notebook creates topic models on pre-processed datasets\n",
        "\n",
        "\n",
        "**Inputs**\n",
        "- Data file: Please note that the input data file should be the output of preproc colab or categorisation colab. Name your input file *input_data.csv*.\n",
        "\n",
        "**Outputs**\n",
        "\n",
        "- The interactive plots is a key output, as well as the excel spreadsheet produced process_model.csv in Results folder which provides information on the best topic associated with each study.\n",
        "\n",
        "Upload the input file  by pressing the upload button on the top left of the left sidebar. The results will appear in a folder named *RESULTS*. RESULTS folder will be automatically created by the code"
      ]
    },
    {
      "cell_type": "code",
      "execution_count": 4,
      "id": "prompt-violence",
      "metadata": {
        "id": "prompt-violence",
        "outputId": "8e27a1fb-3693-4cc1-f09f-396ebe981cea",
        "colab": {
          "base_uri": "https://localhost:8080/"
        }
      },
      "outputs": [
        {
          "output_type": "stream",
          "name": "stdout",
          "text": [
            "Looking in indexes: https://pypi.org/simple, https://us-python.pkg.dev/colab-wheels/public/simple/\n",
            "Requirement already satisfied: pip in /usr/local/lib/python3.10/dist-packages (23.1.2)\n"
          ]
        }
      ],
      "source": [
        "#@title Install Python packages { form-width: \"20%\" }\n",
        "\n",
        "#@markdown Please execute this cell by pressing the _Play_ button\n",
        "#@markdown on the left to download and import third-party software\n",
        "#@markdown in this Colab notebook.\n",
        "\n",
        "#@markdown This installs the software on the Colab\n",
        "#@markdown notebook in the cloud and not on your computer.\n",
        "!pip install --upgrade pip\n",
        "from IPython.utils import io\n",
        "import subprocess\n",
        "\n",
        "try:\n",
        "  with io.capture_output() as captured:\n",
        "    %shell pip install pyLDAvis==3.3.1\n",
        "    %shell pip install import-ipynb\n",
        "    %shell pip install pandas\n",
        "    %shell pip install shutup\n",
        "\n",
        "except subprocess.CalledProcessError:\n",
        "  print(captured)\n",
        "  raise\n",
        "import shutup\n",
        "shutup.please()\n",
        "\n",
        "import os\n",
        "import numpy as np\n",
        "import pandas as pd\n",
        "from pathlib import Path\n",
        "\n",
        "from gensim.corpora import Dictionary\n",
        "from gensim.models import LdaModel\n",
        "import pyLDAvis\n",
        "import pyLDAvis.gensim_models as gensimvis\n",
        "pyLDAvis.enable_notebook()\n",
        "\n",
        "\n",
        "pd. set_option('display.max_colwidth', None)\n"
      ]
    },
    {
      "cell_type": "code",
      "execution_count": 5,
      "id": "british-voluntary",
      "metadata": {
        "id": "british-voluntary"
      },
      "outputs": [],
      "source": [
        "#@title File settings to get started { form-width: \"20%\" }\n",
        "\n",
        "#@markdown Please ensure the input_data.csv is uploaded and execute this cell by pressing the _Play_ button\n",
        "#@markdown on the left\n",
        "DATA_PATH = 'input_data.csv'\n",
        "\n",
        "results_folder = 'RESULTS'\n",
        "RESULTS_FOLDER = results_folder     #***user input\n",
        "if not os.path.isdir(RESULTS_FOLDER):\n",
        "    os.makedirs(RESULTS_FOLDER)\n",
        "RESULTS_PATH = Path(RESULTS_FOLDER)"
      ]
    },
    {
      "cell_type": "code",
      "execution_count": 7,
      "id": "front-director",
      "metadata": {
        "id": "front-director",
        "colab": {
          "base_uri": "https://localhost:8080/",
          "height": 502
        },
        "outputId": "c2625010-a798-4574-f041-88926eb7b307"
      },
      "outputs": [
        {
          "output_type": "error",
          "ename": "KeyError",
          "evalue": "ignored",
          "traceback": [
            "\u001b[0;31m---------------------------------------------------------------------------\u001b[0m",
            "\u001b[0;31mKeyError\u001b[0m                                  Traceback (most recent call last)",
            "\u001b[0;32m/usr/local/lib/python3.10/dist-packages/pandas/core/indexes/base.py\u001b[0m in \u001b[0;36mget_loc\u001b[0;34m(self, key, method, tolerance)\u001b[0m\n\u001b[1;32m   3801\u001b[0m             \u001b[0;32mtry\u001b[0m\u001b[0;34m:\u001b[0m\u001b[0;34m\u001b[0m\u001b[0;34m\u001b[0m\u001b[0m\n\u001b[0;32m-> 3802\u001b[0;31m                 \u001b[0;32mreturn\u001b[0m \u001b[0mself\u001b[0m\u001b[0;34m.\u001b[0m\u001b[0m_engine\u001b[0m\u001b[0;34m.\u001b[0m\u001b[0mget_loc\u001b[0m\u001b[0;34m(\u001b[0m\u001b[0mcasted_key\u001b[0m\u001b[0;34m)\u001b[0m\u001b[0;34m\u001b[0m\u001b[0;34m\u001b[0m\u001b[0m\n\u001b[0m\u001b[1;32m   3803\u001b[0m             \u001b[0;32mexcept\u001b[0m \u001b[0mKeyError\u001b[0m \u001b[0;32mas\u001b[0m \u001b[0merr\u001b[0m\u001b[0;34m:\u001b[0m\u001b[0;34m\u001b[0m\u001b[0;34m\u001b[0m\u001b[0m\n",
            "\u001b[0;32m/usr/local/lib/python3.10/dist-packages/pandas/_libs/index.pyx\u001b[0m in \u001b[0;36mpandas._libs.index.IndexEngine.get_loc\u001b[0;34m()\u001b[0m\n",
            "\u001b[0;32m/usr/local/lib/python3.10/dist-packages/pandas/_libs/index.pyx\u001b[0m in \u001b[0;36mpandas._libs.index.IndexEngine.get_loc\u001b[0;34m()\u001b[0m\n",
            "\u001b[0;32mpandas/_libs/hashtable_class_helper.pxi\u001b[0m in \u001b[0;36mpandas._libs.hashtable.PyObjectHashTable.get_item\u001b[0;34m()\u001b[0m\n",
            "\u001b[0;32mpandas/_libs/hashtable_class_helper.pxi\u001b[0m in \u001b[0;36mpandas._libs.hashtable.PyObjectHashTable.get_item\u001b[0;34m()\u001b[0m\n",
            "\u001b[0;31mKeyError\u001b[0m: 'include'",
            "\nThe above exception was the direct cause of the following exception:\n",
            "\u001b[0;31mKeyError\u001b[0m                                  Traceback (most recent call last)",
            "\u001b[0;32m<ipython-input-7-8d39b0668e85>\u001b[0m in \u001b[0;36m<cell line: 8>\u001b[0;34m()\u001b[0m\n\u001b[1;32m      6\u001b[0m \u001b[0mdf\u001b[0m \u001b[0;34m=\u001b[0m \u001b[0mpd\u001b[0m\u001b[0;34m.\u001b[0m\u001b[0mread_csv\u001b[0m\u001b[0;34m(\u001b[0m\u001b[0;34m'input_data.csv'\u001b[0m\u001b[0;34m)\u001b[0m\u001b[0;34m\u001b[0m\u001b[0;34m\u001b[0m\u001b[0m\n\u001b[1;32m      7\u001b[0m \u001b[0;31m#lit_data = df.loc[df['include'] > 0]\u001b[0m\u001b[0;34m\u001b[0m\u001b[0;34m\u001b[0m\u001b[0m\n\u001b[0;32m----> 8\u001b[0;31m \u001b[0mlit_data\u001b[0m \u001b[0;34m=\u001b[0m \u001b[0mdf\u001b[0m\u001b[0;34m.\u001b[0m\u001b[0mloc\u001b[0m\u001b[0;34m[\u001b[0m\u001b[0mdf\u001b[0m\u001b[0;34m[\u001b[0m\u001b[0;34m'include'\u001b[0m\u001b[0;34m]\u001b[0m \u001b[0;34m==\u001b[0m \u001b[0;34m\"\"\u001b[0m\u001b[0;34m]\u001b[0m\u001b[0;34m\u001b[0m\u001b[0;34m\u001b[0m\u001b[0m\n\u001b[0m\u001b[1;32m      9\u001b[0m \u001b[0;34m\u001b[0m\u001b[0m\n\u001b[1;32m     10\u001b[0m \u001b[0;34m\u001b[0m\u001b[0m\n",
            "\u001b[0;32m/usr/local/lib/python3.10/dist-packages/pandas/core/frame.py\u001b[0m in \u001b[0;36m__getitem__\u001b[0;34m(self, key)\u001b[0m\n\u001b[1;32m   3805\u001b[0m             \u001b[0;32mif\u001b[0m \u001b[0mself\u001b[0m\u001b[0;34m.\u001b[0m\u001b[0mcolumns\u001b[0m\u001b[0;34m.\u001b[0m\u001b[0mnlevels\u001b[0m \u001b[0;34m>\u001b[0m \u001b[0;36m1\u001b[0m\u001b[0;34m:\u001b[0m\u001b[0;34m\u001b[0m\u001b[0;34m\u001b[0m\u001b[0m\n\u001b[1;32m   3806\u001b[0m                 \u001b[0;32mreturn\u001b[0m \u001b[0mself\u001b[0m\u001b[0;34m.\u001b[0m\u001b[0m_getitem_multilevel\u001b[0m\u001b[0;34m(\u001b[0m\u001b[0mkey\u001b[0m\u001b[0;34m)\u001b[0m\u001b[0;34m\u001b[0m\u001b[0;34m\u001b[0m\u001b[0m\n\u001b[0;32m-> 3807\u001b[0;31m             \u001b[0mindexer\u001b[0m \u001b[0;34m=\u001b[0m \u001b[0mself\u001b[0m\u001b[0;34m.\u001b[0m\u001b[0mcolumns\u001b[0m\u001b[0;34m.\u001b[0m\u001b[0mget_loc\u001b[0m\u001b[0;34m(\u001b[0m\u001b[0mkey\u001b[0m\u001b[0;34m)\u001b[0m\u001b[0;34m\u001b[0m\u001b[0;34m\u001b[0m\u001b[0m\n\u001b[0m\u001b[1;32m   3808\u001b[0m             \u001b[0;32mif\u001b[0m \u001b[0mis_integer\u001b[0m\u001b[0;34m(\u001b[0m\u001b[0mindexer\u001b[0m\u001b[0;34m)\u001b[0m\u001b[0;34m:\u001b[0m\u001b[0;34m\u001b[0m\u001b[0;34m\u001b[0m\u001b[0m\n\u001b[1;32m   3809\u001b[0m                 \u001b[0mindexer\u001b[0m \u001b[0;34m=\u001b[0m \u001b[0;34m[\u001b[0m\u001b[0mindexer\u001b[0m\u001b[0;34m]\u001b[0m\u001b[0;34m\u001b[0m\u001b[0;34m\u001b[0m\u001b[0m\n",
            "\u001b[0;32m/usr/local/lib/python3.10/dist-packages/pandas/core/indexes/base.py\u001b[0m in \u001b[0;36mget_loc\u001b[0;34m(self, key, method, tolerance)\u001b[0m\n\u001b[1;32m   3802\u001b[0m                 \u001b[0;32mreturn\u001b[0m \u001b[0mself\u001b[0m\u001b[0;34m.\u001b[0m\u001b[0m_engine\u001b[0m\u001b[0;34m.\u001b[0m\u001b[0mget_loc\u001b[0m\u001b[0;34m(\u001b[0m\u001b[0mcasted_key\u001b[0m\u001b[0;34m)\u001b[0m\u001b[0;34m\u001b[0m\u001b[0;34m\u001b[0m\u001b[0m\n\u001b[1;32m   3803\u001b[0m             \u001b[0;32mexcept\u001b[0m \u001b[0mKeyError\u001b[0m \u001b[0;32mas\u001b[0m \u001b[0merr\u001b[0m\u001b[0;34m:\u001b[0m\u001b[0;34m\u001b[0m\u001b[0;34m\u001b[0m\u001b[0m\n\u001b[0;32m-> 3804\u001b[0;31m                 \u001b[0;32mraise\u001b[0m \u001b[0mKeyError\u001b[0m\u001b[0;34m(\u001b[0m\u001b[0mkey\u001b[0m\u001b[0;34m)\u001b[0m \u001b[0;32mfrom\u001b[0m \u001b[0merr\u001b[0m\u001b[0;34m\u001b[0m\u001b[0;34m\u001b[0m\u001b[0m\n\u001b[0m\u001b[1;32m   3805\u001b[0m             \u001b[0;32mexcept\u001b[0m \u001b[0mTypeError\u001b[0m\u001b[0;34m:\u001b[0m\u001b[0;34m\u001b[0m\u001b[0;34m\u001b[0m\u001b[0m\n\u001b[1;32m   3806\u001b[0m                 \u001b[0;31m# If we have a listlike key, _check_indexing_error will raise\u001b[0m\u001b[0;34m\u001b[0m\u001b[0;34m\u001b[0m\u001b[0m\n",
            "\u001b[0;31mKeyError\u001b[0m: 'include'"
          ]
        }
      ],
      "source": [
        "#@title Read input file  { form-width: \"20%\" }\n",
        "\n",
        "def handle_listStrings(list_tokens):\n",
        "  return(eval(list_tokens))\n",
        "\n",
        "df = pd.read_csv('input_data.csv')\n",
        "lit_data = df.loc[df['include'] > 0]\n",
        "\n",
        "\n",
        "lit_data['medTokens'] = lit_data.medTokens.apply(handle_listStrings)\n",
        "lit_data['cancerTokens'] = lit_data.cancerTokens.apply(handle_listStrings)\n",
        "lit_data['entTokens'] = lit_data.entTokens.apply(handle_listStrings)"
      ]
    },
    {
      "cell_type": "code",
      "execution_count": null,
      "id": "NzaUayAfNAqW",
      "metadata": {
        "colab": {
          "base_uri": "https://localhost:8080/"
        },
        "id": "NzaUayAfNAqW",
        "outputId": "1b991653-6f92-4e5e-dca8-d02aebc2b205"
      },
      "outputs": [
        {
          "data": {
            "text/plain": [
              "822"
            ]
          },
          "execution_count": 24,
          "metadata": {},
          "output_type": "execute_result"
        }
      ],
      "source": [
        "lit_data.shape[0]"
      ]
    },
    {
      "cell_type": "code",
      "execution_count": null,
      "id": "motivated-ratio",
      "metadata": {
        "cellView": "form",
        "id": "motivated-ratio"
      },
      "outputs": [],
      "source": [
        "#@title Function definitions for LDA model results { form-width: \"20%\" }\n",
        "\n",
        "#@markdown Please execute this cell by pressing the _Play_ button on the left\n",
        "\n",
        "from matplotlib import pyplot as plt\n",
        "from wordcloud import WordCloud\n",
        "import matplotlib.colors as mcolors\n",
        "from math import ceil\n",
        "from collections import Counter\n",
        "\n",
        "def get_document_topic_table(lda_model, corpus):\n",
        "  # Init output\n",
        "  document_topic_df = pd.DataFrame()\n",
        "\n",
        "  # Get main topic in each document\n",
        "  for i, row_list in enumerate(lda_model[corpus]):   #i - abstract number, row_list: topic number and probability\n",
        "    row = sorted(row_list, key=lambda x: (x[1]), reverse=True)\n",
        "    topic_num=row[0][0]\n",
        "    prop_topic=row[0][1]\n",
        "    wp = lda_model.show_topic(topic_num)\n",
        "    topic_keywords = \", \".join([word for word, prop in wp])\n",
        "    document_topic_df.at[i,'best_topic']=topic_num\n",
        "    document_topic_df.at[i,'prop_topic']=prop_topic\n",
        "    document_topic_df.at[i,'topic_keywords']=topic_keywords\n",
        "    document_topic_df.at[i,'document_num']=i\n",
        "    document_topic_df.at[i,'topic_dist'] = str(row)\n",
        "\n",
        "  return document_topic_df\n",
        "\n",
        "def model_lda(dict, corpus):\n",
        "  # Build LDA model\n",
        "  lda_model = LdaModel(corpus=corpus, id2word=dict, num_topics=NUM_TOPICS, random_state=100,\n",
        "                chunksize=200, passes=100)\n",
        "  print('\\nPerplexity: ', lda_model.log_perplexity(corpus))  # a measure of how good the model is. lower the better.\n",
        "\n",
        "  print(\"***Word distribution in topics***\")\n",
        "  lda_model.print_topics()[:NUM_TOPICS-1]\n",
        "\n",
        "\n",
        "  return lda_model\n",
        "\n",
        "def show_wordcloud(lda_model):\n",
        "  cols = [color for name, color in mcolors.TABLEAU_COLORS.items()]  # more colors: 'mcolors.XKCD_COLORS'\n",
        "\n",
        "  cloud = WordCloud(background_color='white',\n",
        "                  width=2500,\n",
        "                  height=1800,\n",
        "                  max_words=30,\n",
        "                  colormap='tab10',\n",
        "                  color_func=lambda *args, **kwargs: cols[i],\n",
        "                  prefer_horizontal=1.0)\n",
        "  topics = lda_model.show_topics(formatted=False)\n",
        "  ncol = 2\n",
        "  nrow = ceil(NUM_TOPICS/ncol)\n",
        "  fig, axes = plt.subplots(nrow, ncol, figsize=(10,10), sharex=True, sharey=True)\n",
        "\n",
        "  for i, ax in enumerate(axes.flatten()):\n",
        "    ax.set_axis_off()\n",
        "    if i == NUM_TOPICS:\n",
        "      break\n",
        "    fig.add_subplot(ax)\n",
        "    topic_words = dict(topics[i][1])\n",
        "    cloud.generate_from_frequencies(topic_words, max_font_size=300)\n",
        "    plt.gca().imshow(cloud)\n",
        "    plt.gca().set_title('Topic ' + str(i), fontdict=dict(size=16))\n",
        "    plt.gca().axis('off')\n",
        "    # ax.set_axis_on()\n",
        "\n",
        "\n",
        "  plt.subplots_adjust(wspace=0, hspace=0)\n",
        "  plt.axis('off')\n",
        "  plt.margins(x=0, y=0)\n",
        "  plt.tight_layout()\n",
        "  plt.show()\n",
        "\n",
        "\n",
        "def show_wordimportance(lda_model, data):\n",
        "  topics = lda_model_med.show_topics(formatted=False)\n",
        "  data_flat = [w for w_list in data for w in w_list]\n",
        "  counter = Counter(data_flat)\n",
        "  out = []\n",
        "\n",
        "  for i, topic in topics:\n",
        "    for word, weight in topic:\n",
        "      out.append([word, i , weight, counter[word]])\n",
        "\n",
        "  df = pd.DataFrame(out, columns=['word', 'topic_id', 'importance', 'word_count'])\n",
        "  ncol = 2\n",
        "  nrow = ceil(NUM_TOPICS/ncol)\n",
        "\n",
        "  # Plot Word Count and Weights of Topic Keywords\n",
        "  fig, axes = plt.subplots(nrow, ncol, figsize=(16,20), sharey=True,dpi=160)\n",
        "  cols = [color for name, color in mcolors.TABLEAU_COLORS.items()]\n",
        "  for i, ax in enumerate(axes.flatten()):\n",
        "    ax.bar(x='word', height=\"word_count\", data=df.loc[df.topic_id==i, :], color=cols[i], width=0.5, alpha=0.3, label='Word Count')\n",
        "    ax_twin = ax.twinx()\n",
        "    ax_twin.bar(x='word', height=\"importance\", data=df.loc[df.topic_id==i, :], color=cols[i], width=0.2, label='Weights')\n",
        "    ax.set_ylabel('Word Count', color=cols[i])\n",
        "    ax_twin.set_ylim(0, 0.5); ax.set_ylim(0, 1000)\n",
        "    ax.set_title('Topic: ' + str(i), color=cols[i], fontsize=16)\n",
        "    ax.tick_params(axis='y', left=False)\n",
        "    ax.set_xticklabels(df.loc[df.topic_id==i, 'word'], rotation=30, horizontalalignment= 'right')\n",
        "    ax.legend(loc='upper left'); ax_twin.legend(loc='upper right')\n",
        "\n",
        "  fig.tight_layout(w_pad=5)\n"
      ]
    },
    {
      "cell_type": "code",
      "execution_count": null,
      "id": "outdoor-attack",
      "metadata": {
        "cellView": "form",
        "id": "outdoor-attack"
      },
      "outputs": [],
      "source": [
        "#@title Specify number of topics  { form-width: \"20%\" }\n",
        "\n",
        "#@markdown Please execute this cell by pressing the _Play_ button on the left\n",
        "\n",
        "NUM_TOPICS = 4"
      ]
    },
    {
      "cell_type": "code",
      "execution_count": null,
      "id": "u83gqylwGSnY",
      "metadata": {
        "cellView": "form",
        "id": "u83gqylwGSnY"
      },
      "outputs": [],
      "source": [
        "#@title Specify exclusions { form-width: \"20%\" }\n",
        "\n",
        "# Below are the list of irrelevant words for medical entity model\n",
        "MED_IRRELEVANT = ['Cancer', 'Kidney cancer', 'cancer', 'kidney cancer', 'cancers', 'kidney cancers', 'objective(s', 'purpose(s', 'tumors', 'patients','patient', 'kidney cancer patients']"
      ]
    },
    {
      "cell_type": "code",
      "execution_count": null,
      "id": "blessed-accent",
      "metadata": {
        "cellView": "form",
        "id": "blessed-accent"
      },
      "outputs": [],
      "source": [
        "#@title LDA modelling on med tokens  { form-width: \"20%\" }\n",
        "DATA = lit_data[\"medTokens\"]\n",
        "DATA = DATA.apply(lambda x: [y for y in x if y not in MED_IRRELEVANT])\n",
        "\n",
        "DICTIONARY = Dictionary(DATA)\n",
        "# Bag-of-words representation of the documents.\n",
        "CORPUS = [DICTIONARY.doc2bow(doc) for doc in DATA]\n",
        "lda_model_med = model_lda(DICTIONARY, CORPUS)\n",
        "\n",
        "document_topic_df = get_document_topic_table(lda_model=lda_model_med, corpus=CORPUS)\n",
        "lit_data.reset_index(drop=True, inplace=True)\n",
        "document_topic_df.reset_index(drop = True, inplace=True)\n",
        "out_df = pd.concat([lit_data, document_topic_df], axis = 1)\n",
        "out_df.to_csv(RESULTS_PATH / \"processed_model.csv\", index=False)\n",
        "\n",
        "lda_model_med.print_topics()[:NUM_TOPICS]\n"
      ]
    },
    {
      "cell_type": "code",
      "execution_count": null,
      "id": "aggressive-enzyme",
      "metadata": {
        "cellView": "form",
        "id": "aggressive-enzyme"
      },
      "outputs": [],
      "source": [
        "#@title Word cloud of topics  { form-width: \"20%\" }\n",
        "show_wordcloud(lda_model_med)"
      ]
    },
    {
      "cell_type": "code",
      "execution_count": null,
      "id": "driven-guest",
      "metadata": {
        "cellView": "form",
        "id": "driven-guest"
      },
      "outputs": [],
      "source": [
        "#@title Word importance in the topics  { form-width: \"20%\" }\n",
        "show_wordimportance(lda_model_med, DATA)"
      ]
    },
    {
      "cell_type": "code",
      "execution_count": null,
      "id": "smooth-vertical",
      "metadata": {
        "cellView": "form",
        "id": "smooth-vertical"
      },
      "outputs": [],
      "source": [
        "#@title PyLDAVis  { form-width: \"20%\" }\n",
        "vis = gensimvis.prepare(lda_model_med, CORPUS, dictionary=lda_model_med.id2word, sort_topics=False)\n",
        "vis"
      ]
    }
  ],
  "metadata": {
    "colab": {
      "provenance": [],
      "include_colab_link": true
    },
    "kernelspec": {
      "display_name": "Python 3",
      "language": "python",
      "name": "python3"
    },
    "language_info": {
      "codemirror_mode": {
        "name": "ipython",
        "version": 3
      },
      "file_extension": ".py",
      "mimetype": "text/x-python",
      "name": "python",
      "nbconvert_exporter": "python",
      "pygments_lexer": "ipython3",
      "version": "3.8.6"
    }
  },
  "nbformat": 4,
  "nbformat_minor": 5
}