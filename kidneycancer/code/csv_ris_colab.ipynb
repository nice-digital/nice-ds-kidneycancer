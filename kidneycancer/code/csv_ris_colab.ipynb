{
  "nbformat": 4,
  "nbformat_minor": 0,
  "metadata": {
    "colab": {
      "provenance": [],
      "authorship_tag": "ABX9TyNgmelMkBwTGbDy3+SCKBgs",
      "include_colab_link": true
    },
    "kernelspec": {
      "name": "python3",
      "display_name": "Python 3"
    },
    "language_info": {
      "name": "python"
    }
  },
  "cells": [
    {
      "cell_type": "markdown",
      "metadata": {
        "id": "view-in-github",
        "colab_type": "text"
      },
      "source": [
        "<a href=\"https://colab.research.google.com/github/nice-digital/nice-ds-literatureprocessing/blob/master/code/breast_cancer/csv_ris_colab.ipynb\" target=\"_parent\"><img src=\"https://colab.research.google.com/assets/colab-badge.svg\" alt=\"Open In Colab\"/></a>"
      ]
    },
    {
      "cell_type": "code",
      "source": [
        "#@title Package installs { form-width: \"20%\" }\n",
        "!pip install rpy2==3.5.1"
      ],
      "metadata": {
        "cellView": "form",
        "id": "zYNGjZqXmhCH"
      },
      "execution_count": null,
      "outputs": []
    },
    {
      "cell_type": "code",
      "execution_count": null,
      "metadata": {
        "cellView": "form",
        "id": "LjjGUOj2meI_"
      },
      "outputs": [],
      "source": [
        "#@title Clone the FileManagementUtilities  GITHub repo to access pre-processing code { form-width: \"20%\" }\n",
        "\n",
        "!git clone https://github.com/reenygeorge/FileManagementUtilities"
      ]
    },
    {
      "cell_type": "code",
      "source": [
        "#@title Manadatory set up code { form-width: \"20%\" }\n",
        "%load_ext rpy2.ipython\n",
        "%cd /content/"
      ],
      "metadata": {
        "cellView": "form",
        "id": "jy6o_xVhmjnL"
      },
      "execution_count": null,
      "outputs": []
    },
    {
      "cell_type": "code",
      "source": [
        "#@title Manadatory set up code { form-width: \"20%\" }\n",
        "%%R\n",
        "source('/content/FileManagementUtilities/code/Revtools.R')"
      ],
      "metadata": {
        "cellView": "form",
        "id": "scwwS0UJojhz"
      },
      "execution_count": 4,
      "outputs": []
    },
    {
      "cell_type": "code",
      "source": [
        "#@title Convert CSV to RIS { form-width: \"20%\" }\n",
        "#@markdown **Note:** Please name the input file as 'input_data.csv' and upload.\n",
        "#@markdown **Note:** Column names should be appropriate (e.g. 'title', 'abstract' etc.)\n",
        "\n",
        "%%R\n",
        "\n",
        "df <- read.csv('input_data.csv', stringsAsFactors = FALSE)\n",
        "colnames(df) <- tolower(colnames(df)) # Note: colnames should be in small letters!\n",
        "\n",
        "df$title <- df$title_orig\n",
        "df$abstract <- df$abstract_orig\n",
        "df['type'] <- 'journal'\n",
        "\n",
        "#Select the includes- BC include + Syst-Meta\n",
        "df2 <- df[df$include > 0 & df$syst.meta > 0,]\n",
        "df2 <- df2[,c('type', 'title', 'abstract')]\n",
        "print(nrow(df2))\n",
        "write_bibliography(df2, 'bc_6000_includes.ris', format = \"ris\")\n",
        "\n",
        "\n",
        "#Select the excludes- all not selected in above step\n",
        "df2 <- df[!(df$include > 0 & df$syst.meta) > 0,]\n",
        "df2 <- df2[,c('type','title', 'abstract')]\n",
        "print(nrow(df2))\n",
        "write_bibliography(df2, 'bc_6000_excludes.ris', format = \"ris\")\n",
        "\n"
      ],
      "metadata": {
        "cellView": "form",
        "id": "ZWyl86oFm2xS"
      },
      "execution_count": null,
      "outputs": []
    }
  ]
}